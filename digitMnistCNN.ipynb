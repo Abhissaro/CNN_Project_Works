{
 "cells": [
  {
   "cell_type": "code",
   "execution_count": 9,
   "metadata": {
    "colab": {
     "base_uri": "https://localhost:8080/"
    },
    "executionInfo": {
     "elapsed": 9467,
     "status": "ok",
     "timestamp": 1653139072345,
     "user": {
      "displayName": "vaseem london intl",
      "userId": "03334277506524623127"
     },
     "user_tz": -240
    },
    "id": "1yjw71VKm0e1",
    "outputId": "8580ef9c-8add-4d78-e83e-fecdbcdb0229"
   },
   "outputs": [
    {
     "name": "stdout",
     "output_type": "stream",
     "text": [
      "Downloading data from https://www.cs.toronto.edu/~kriz/cifar-10-python.tar.gz\n",
      "170500096/170498071 [==============================] - 6s 0us/step\n",
      "170508288/170498071 [==============================] - 6s 0us/step\n",
      "(50000, 32, 32, 3) (50000, 1)\n"
     ]
    }
   ],
   "source": [
    "from tensorflow import keras \n",
    "import tensorflow as tf \n",
    "\n",
    "(Xtrain,yTrain),(Xtest,yTest) = keras.datasets.cifar10.load_data()\n",
    "print(Xtrain.shape,yTrain.shape)\n",
    "Xtrain = Xtrain/255\n",
    "Xtest = Xtest/255"
   ]
  },
  {
   "cell_type": "markdown",
   "metadata": {
    "id": "g4mXetaGuI8m"
   },
   "source": []
  },
  {
   "cell_type": "markdown",
   "metadata": {
    "id": "uLV6qv4HnLDH"
   },
   "source": [
    "CReate the CNN network \n"
   ]
  },
  {
   "cell_type": "code",
   "execution_count": 10,
   "metadata": {
    "executionInfo": {
     "elapsed": 540,
     "status": "ok",
     "timestamp": 1653139075391,
     "user": {
      "displayName": "vaseem london intl",
      "userId": "03334277506524623127"
     },
     "user_tz": -240
    },
    "id": "ZgBBTGvNnNJ5"
   },
   "outputs": [],
   "source": [
    "ModelCNN = keras.models.Sequential()\n",
    "\n",
    "# first layer CNN \n",
    "ModelCNN.add(keras.layers.Conv2D(filters=25,kernel_size=(3,3),activation='relu',input_shape=(32,32,3)))\n",
    "ModelCNN.add(keras.layers.MaxPool2D(2,2))\n",
    "\n",
    "# second Layer CNN \n",
    "ModelCNN.add(keras.layers.Conv2D(filters=50,kernel_size = (3,3),activation = 'relu'))\n",
    "ModelCNN.add(keras.layers.MaxPool2D(2,2))\n",
    "\n",
    "# third layer CNN without MAxpool \n",
    "ModelCNN.add(keras.layers.Conv2D(filters=50,kernel_size = (3,3),activation = 'relu'))\n",
    "\n"
   ]
  },
  {
   "cell_type": "code",
   "execution_count": 11,
   "metadata": {
    "colab": {
     "base_uri": "https://localhost:8080/"
    },
    "executionInfo": {
     "elapsed": 459,
     "status": "ok",
     "timestamp": 1653139078481,
     "user": {
      "displayName": "vaseem london intl",
      "userId": "03334277506524623127"
     },
     "user_tz": -240
    },
    "id": "Y3iRDOoqo29g",
    "outputId": "56ff5e34-0918-452b-9545-894f52b194e1"
   },
   "outputs": [
    {
     "name": "stdout",
     "output_type": "stream",
     "text": [
      "Model: \"sequential_1\"\n",
      "_________________________________________________________________\n",
      " Layer (type)                Output Shape              Param #   \n",
      "=================================================================\n",
      " conv2d_3 (Conv2D)           (None, 30, 30, 25)        700       \n",
      "                                                                 \n",
      " max_pooling2d_2 (MaxPooling  (None, 15, 15, 25)       0         \n",
      " 2D)                                                             \n",
      "                                                                 \n",
      " conv2d_4 (Conv2D)           (None, 13, 13, 50)        11300     \n",
      "                                                                 \n",
      " max_pooling2d_3 (MaxPooling  (None, 6, 6, 50)         0         \n",
      " 2D)                                                             \n",
      "                                                                 \n",
      " conv2d_5 (Conv2D)           (None, 4, 4, 50)          22550     \n",
      "                                                                 \n",
      "=================================================================\n",
      "Total params: 34,550\n",
      "Trainable params: 34,550\n",
      "Non-trainable params: 0\n",
      "_________________________________________________________________\n"
     ]
    }
   ],
   "source": [
    "ModelCNN.summary()"
   ]
  },
  {
   "cell_type": "code",
   "execution_count": 12,
   "metadata": {
    "colab": {
     "base_uri": "https://localhost:8080/"
    },
    "executionInfo": {
     "elapsed": 545,
     "status": "ok",
     "timestamp": 1653139086402,
     "user": {
      "displayName": "vaseem london intl",
      "userId": "03334277506524623127"
     },
     "user_tz": -240
    },
    "id": "2qOPm4ippKFf",
    "outputId": "e3e959a4-a4e9-40a1-d829-44b53a4e5699"
   },
   "outputs": [
    {
     "name": "stdout",
     "output_type": "stream",
     "text": [
      "Model: \"sequential_1\"\n",
      "_________________________________________________________________\n",
      " Layer (type)                Output Shape              Param #   \n",
      "=================================================================\n",
      " conv2d_3 (Conv2D)           (None, 30, 30, 25)        700       \n",
      "                                                                 \n",
      " max_pooling2d_2 (MaxPooling  (None, 15, 15, 25)       0         \n",
      " 2D)                                                             \n",
      "                                                                 \n",
      " conv2d_4 (Conv2D)           (None, 13, 13, 50)        11300     \n",
      "                                                                 \n",
      " max_pooling2d_3 (MaxPooling  (None, 6, 6, 50)         0         \n",
      " 2D)                                                             \n",
      "                                                                 \n",
      " conv2d_5 (Conv2D)           (None, 4, 4, 50)          22550     \n",
      "                                                                 \n",
      " flatten_1 (Flatten)         (None, 800)               0         \n",
      "                                                                 \n",
      " dense_3 (Dense)             (None, 350)               280350    \n",
      "                                                                 \n",
      " dense_4 (Dense)             (None, 150)               52650     \n",
      "                                                                 \n",
      " dense_5 (Dense)             (None, 10)                1510      \n",
      "                                                                 \n",
      "=================================================================\n",
      "Total params: 369,060\n",
      "Trainable params: 369,060\n",
      "Non-trainable params: 0\n",
      "_________________________________________________________________\n"
     ]
    }
   ],
   "source": [
    "ModelCNN.add(keras.layers.Flatten())\n",
    "ModelCNN.add(keras.layers.Dense(350,activation = 'relu'))\n",
    "ModelCNN.add(keras.layers.Dense(150,activation = 'relu'))\n",
    "ModelCNN.add(keras.layers.Dense(10))\n",
    "ModelCNN.summary()\n"
   ]
  },
  {
   "cell_type": "code",
   "execution_count": 13,
   "metadata": {
    "executionInfo": {
     "elapsed": 399,
     "status": "ok",
     "timestamp": 1653139091857,
     "user": {
      "displayName": "vaseem london intl",
      "userId": "03334277506524623127"
     },
     "user_tz": -240
    },
    "id": "HeP7t-uhp1SK"
   },
   "outputs": [],
   "source": [
    "ModelCNN.compile(optimizer = 'adam',loss = keras.losses.SparseCategoricalCrossentropy(from_logits=True),metrics=['Accuracy'])\n"
   ]
  },
  {
   "cell_type": "code",
   "execution_count": 14,
   "metadata": {
    "colab": {
     "base_uri": "https://localhost:8080/"
    },
    "executionInfo": {
     "elapsed": 119102,
     "status": "ok",
     "timestamp": 1653139212645,
     "user": {
      "displayName": "vaseem london intl",
      "userId": "03334277506524623127"
     },
     "user_tz": -240
    },
    "id": "XVQ9DIp9qEzx",
    "outputId": "795b5ef6-c11c-4e70-8137-c07119b1bf24"
   },
   "outputs": [
    {
     "name": "stdout",
     "output_type": "stream",
     "text": [
      "Epoch 1/10\n",
      "1563/1563 [==============================] - 13s 8ms/step - loss: 1.4960 - Accuracy: 0.4525 - val_loss: 1.2398 - val_Accuracy: 0.5597\n",
      "Epoch 2/10\n",
      "1563/1563 [==============================] - 11s 7ms/step - loss: 1.1390 - Accuracy: 0.5925 - val_loss: 1.0710 - val_Accuracy: 0.6250\n",
      "Epoch 3/10\n",
      "1563/1563 [==============================] - 11s 7ms/step - loss: 0.9736 - Accuracy: 0.6550 - val_loss: 1.0762 - val_Accuracy: 0.6256\n",
      "Epoch 4/10\n",
      "1563/1563 [==============================] - 11s 7ms/step - loss: 0.8643 - Accuracy: 0.6934 - val_loss: 0.9208 - val_Accuracy: 0.6776\n",
      "Epoch 5/10\n",
      "1563/1563 [==============================] - 12s 8ms/step - loss: 0.7711 - Accuracy: 0.7264 - val_loss: 0.9395 - val_Accuracy: 0.6805\n",
      "Epoch 6/10\n",
      "1563/1563 [==============================] - 12s 8ms/step - loss: 0.6920 - Accuracy: 0.7553 - val_loss: 0.9277 - val_Accuracy: 0.6874\n",
      "Epoch 7/10\n",
      "1563/1563 [==============================] - 12s 8ms/step - loss: 0.6213 - Accuracy: 0.7797 - val_loss: 0.9280 - val_Accuracy: 0.7027\n",
      "Epoch 8/10\n",
      "1563/1563 [==============================] - 12s 7ms/step - loss: 0.5547 - Accuracy: 0.8005 - val_loss: 0.9728 - val_Accuracy: 0.6959\n",
      "Epoch 9/10\n",
      "1563/1563 [==============================] - 12s 8ms/step - loss: 0.4918 - Accuracy: 0.8253 - val_loss: 1.0044 - val_Accuracy: 0.6901\n",
      "Epoch 10/10\n",
      "1563/1563 [==============================] - 12s 7ms/step - loss: 0.4271 - Accuracy: 0.8469 - val_loss: 1.0284 - val_Accuracy: 0.6983\n"
     ]
    }
   ],
   "source": [
    "history = ModelCNN.fit(Xtrain,yTrain,epochs = 10,validation_data = (Xtest,yTest) )"
   ]
  }
 ],
 "metadata": {
  "accelerator": "GPU",
  "colab": {
   "name": "digitMnistCNN.ipynb",
   "provenance": []
  },
  "kernelspec": {
   "display_name": "Python 3 (ipykernel)",
   "language": "python",
   "name": "python3"
  },
  "language_info": {
   "codemirror_mode": {
    "name": "ipython",
    "version": 3
   },
   "file_extension": ".py",
   "mimetype": "text/x-python",
   "name": "python",
   "nbconvert_exporter": "python",
   "pygments_lexer": "ipython3",
   "version": "3.9.13"
  }
 },
 "nbformat": 4,
 "nbformat_minor": 1
}
